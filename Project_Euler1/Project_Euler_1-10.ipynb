{
 "cells": [
  {
   "cell_type": "markdown",
   "metadata": {},
   "source": [
    "# Project Euler\n"
   ]
  },
  {
   "cell_type": "code",
   "execution_count": 24,
   "metadata": {},
   "outputs": [],
   "source": [
    "import numpy as np\n",
    "import math\n",
    "import matplotlib.pyplot as plt"
   ]
  },
  {
   "cell_type": "markdown",
   "metadata": {},
   "source": [
    "### Problem 1\n",
    "#### Find the sum of the multiples of 3 and 5 below 1000"
   ]
  },
  {
   "cell_type": "code",
   "execution_count": 2,
   "metadata": {},
   "outputs": [
    {
     "name": "stdout",
     "output_type": "stream",
     "text": [
      "[3, 5, 6, 9, 10, 12, 15, 18, 20, 21, 24, 25, 27, 30, 33, 35, 36, 39, 40, 42, 45, 48, 50, 51, 54, 55, 57, 60, 63, 65, 66, 69, 70, 72, 75, 78, 80, 81, 84, 85, 87, 90, 93, 95, 96, 99, 100, 102, 105, 108, 110, 111, 114, 115, 117, 120, 123, 125, 126, 129, 130, 132, 135, 138, 140, 141, 144, 145, 147, 150, 153, 155, 156, 159, 160, 162, 165, 168, 170, 171, 174, 175, 177, 180, 183, 185, 186, 189, 190, 192, 195, 198, 200, 201, 204, 205, 207, 210, 213, 215, 216, 219, 220, 222, 225, 228, 230, 231, 234, 235, 237, 240, 243, 245, 246, 249, 250, 252, 255, 258, 260, 261, 264, 265, 267, 270, 273, 275, 276, 279, 280, 282, 285, 288, 290, 291, 294, 295, 297, 300, 303, 305, 306, 309, 310, 312, 315, 318, 320, 321, 324, 325, 327, 330, 333, 335, 336, 339, 340, 342, 345, 348, 350, 351, 354, 355, 357, 360, 363, 365, 366, 369, 370, 372, 375, 378, 380, 381, 384, 385, 387, 390, 393, 395, 396, 399, 400, 402, 405, 408, 410, 411, 414, 415, 417, 420, 423, 425, 426, 429, 430, 432, 435, 438, 440, 441, 444, 445, 447, 450, 453, 455, 456, 459, 460, 462, 465, 468, 470, 471, 474, 475, 477, 480, 483, 485, 486, 489, 490, 492, 495, 498, 500, 501, 504, 505, 507, 510, 513, 515, 516, 519, 520, 522, 525, 528, 530, 531, 534, 535, 537, 540, 543, 545, 546, 549, 550, 552, 555, 558, 560, 561, 564, 565, 567, 570, 573, 575, 576, 579, 580, 582, 585, 588, 590, 591, 594, 595, 597, 600, 603, 605, 606, 609, 610, 612, 615, 618, 620, 621, 624, 625, 627, 630, 633, 635, 636, 639, 640, 642, 645, 648, 650, 651, 654, 655, 657, 660, 663, 665, 666, 669, 670, 672, 675, 678, 680, 681, 684, 685, 687, 690, 693, 695, 696, 699, 700, 702, 705, 708, 710, 711, 714, 715, 717, 720, 723, 725, 726, 729, 730, 732, 735, 738, 740, 741, 744, 745, 747, 750, 753, 755, 756, 759, 760, 762, 765, 768, 770, 771, 774, 775, 777, 780, 783, 785, 786, 789, 790, 792, 795, 798, 800, 801, 804, 805, 807, 810, 813, 815, 816, 819, 820, 822, 825, 828, 830, 831, 834, 835, 837, 840, 843, 845, 846, 849, 850, 852, 855, 858, 860, 861, 864, 865, 867, 870, 873, 875, 876, 879, 880, 882, 885, 888, 890, 891, 894, 895, 897, 900, 903, 905, 906, 909, 910, 912, 915, 918, 920, 921, 924, 925, 927, 930, 933, 935, 936, 939, 940, 942, 945, 948, 950, 951, 954, 955, 957, 960, 963, 965, 966, 969, 970, 972, 975, 978, 980, 981, 984, 985, 987, 990, 993, 995, 996, 999]\n",
      "233168\n"
     ]
    }
   ],
   "source": [
    "list_multiples = []\n",
    "for i in range(1,1000):\n",
    "    if i%3 == 0 or i%5 == 0:\n",
    "        list_multiples.append(i)\n",
    "    \n",
    "print(list_multiples)\n",
    "print(sum(list_multiples))"
   ]
  },
  {
   "cell_type": "markdown",
   "metadata": {},
   "source": [
    "### Problem 2\n",
    "#### Sum all even fibonacci numbers less than 1 million"
   ]
  },
  {
   "cell_type": "code",
   "execution_count": 3,
   "metadata": {},
   "outputs": [
    {
     "name": "stdout",
     "output_type": "stream",
     "text": [
      "4613732\n"
     ]
    }
   ],
   "source": [
    "list_fibonacci = [1,1]\n",
    "list_even = []\n",
    "while list_fibonacci[-1] < 4*10**6:\n",
    "    list_fibonacci.append(list_fibonacci[-1]+list_fibonacci[-2])\n",
    "for i in list_fibonacci:\n",
    "    if i%2 == 0:\n",
    "        list_even.append(i)\n",
    "print(sum(list_even))"
   ]
  },
  {
   "cell_type": "markdown",
   "metadata": {},
   "source": [
    "### Problem 3\n",
    "#### Largest Prime Factor of 600851475143"
   ]
  },
  {
   "cell_type": "code",
   "execution_count": 4,
   "metadata": {},
   "outputs": [
    {
     "name": "stdout",
     "output_type": "stream",
     "text": [
      "6857\n"
     ]
    }
   ],
   "source": [
    "#Factors only go up to the square root of a number\n",
    "#Check all prime numbers up to and including square root of number\n",
    "\n",
    "def check_prime(x):\n",
    "    i = 2\n",
    "    while i <= np.sqrt(x)//1:\n",
    "        if x%i == 0:\n",
    "            return(1)\n",
    "        i += 1\n",
    "    return(0)\n",
    "\n",
    "i = 2\n",
    "biggest_prime = 0\n",
    "list_primes = []\n",
    "\n",
    "while i <= np.sqrt(600851475143):\n",
    "    if check_prime(i) == 0:\n",
    "        list_primes.append(i)\n",
    "    i += 1\n",
    "\n",
    "\n",
    "for i in list_primes:\n",
    "    if 600851475143%i == 0 and i > biggest_prime:\n",
    "        biggest_prime = i\n",
    "\n",
    "print(biggest_prime)\n",
    "\n",
    "# Other way to do is is find largest factor of n, check if n is prime, if not find next largest prime"
   ]
  },
  {
   "cell_type": "markdown",
   "metadata": {},
   "source": [
    "### Problem 4\n",
    "#### Find largest palindrome made by product of two 3 digit numbers"
   ]
  },
  {
   "cell_type": "code",
   "execution_count": 5,
   "metadata": {},
   "outputs": [
    {
     "name": "stdout",
     "output_type": "stream",
     "text": [
      "888888\n",
      "962 924\n",
      "[906609, 886688, 888888, 855558, 840048, 861168, 828828, 824428, 819918]\n",
      "906609\n"
     ]
    }
   ],
   "source": [
    "#Possibly check for biggest number made by 3 digit numbers - 999*999\n",
    "#Can't just reduce by 1 for one of them, have to reduce first one by one, then other one by one then first one back to 999 etc.\n",
    "# 999*999\n",
    "# 999*998\n",
    "# 998*998\n",
    "# 999*997\n",
    "# 998*997\n",
    "# 997*997\n",
    "# 999*996\n",
    "#Doesn't work, make list of palindromes\n",
    "\n",
    "def check_palindrome(x):\n",
    "    backwards_number = str(x)[::-1]\n",
    "    if backwards_number == str(x):\n",
    "        return(1)\n",
    "    else:\n",
    "        return(0)\n",
    "\n",
    "n1 = 999\n",
    "n2 = 999\n",
    "list_palindromes = []\n",
    "\n",
    "while check_palindrome(n1*n2) == 0:\n",
    "    if n1 > n2:\n",
    "        n1 = n1 - 1\n",
    "    elif n1 == n2:\n",
    "        n1 = 999\n",
    "        n2 = n2 - 1\n",
    "print(n1*n2)\n",
    "print(n1, n2)\n",
    "# Found Baseline\n",
    "#Can check what numbers are smaller than 962 and 924\n",
    "#Roughly 999 and 888\n",
    "p1 = 999\n",
    "p2 = 999\n",
    "#Brute force\n",
    "\n",
    "while p1 > 888:\n",
    "    if check_palindrome(p1*p2) == 1:\n",
    "        list_palindromes.append(p1*p2)\n",
    "    if p2 > 888:\n",
    "        p2 = p2 - 1\n",
    "    else:\n",
    "        p1 = p1 - 1\n",
    "        p2 = p1\n",
    "\n",
    "print(list_palindromes)\n",
    "\n",
    "\n",
    "max = 0\n",
    "for i in list_palindromes:\n",
    "    if i > max:\n",
    "        max = i\n",
    "print(max)\n",
    "\n",
    "\n",
    "#Another way to go about this would be to find largest palindrome and then check if it's prime. Find if any 3 digits numbers go in..."
   ]
  },
  {
   "cell_type": "markdown",
   "metadata": {},
   "source": [
    "### Problem 5\n",
    "#### Find smallest number that can be divided evenly by all numbers 1 to 20"
   ]
  },
  {
   "cell_type": "code",
   "execution_count": 20,
   "metadata": {},
   "outputs": [
    {
     "name": "stdout",
     "output_type": "stream",
     "text": [
      "232792560\n",
      "232792560\n"
     ]
    }
   ],
   "source": [
    "#First though process would the last 2 digits have to end in 20, 40, 60, 80, 00/ mulitples of 20\n",
    "#Create list\n",
    "#Making start point 2520 (Context in question)\n",
    "# Makes it get rid of 2,5,4,10,20\n",
    "#Check 18, gets rid of 3,6,9\n",
    "#Check 19\n",
    "#Check 17\n",
    "#Add 60 every time for 15\n",
    "#Check 16\n",
    "#Check 14, 7\n",
    "#13\n",
    "#12\n",
    "#11\n",
    "n = 2520\n",
    "x = False\n",
    "print(2**4*3**2*5*7*11*13*17*19) #Highest possible prime factor of each number less than 20? Think about it hard enough\n",
    "while x == False:\n",
    "    if n%19 == 0 and n%18 == 0 and n%17 == 0 and n%16 == 0 and n%14 == 0 and n%13 == 0 and n%12 == 0 and n%11 == 0:\n",
    "        print(n)\n",
    "        x = True\n",
    "    else:\n",
    "        n += 60\n",
    "#Messy but works"
   ]
  },
  {
   "cell_type": "markdown",
   "metadata": {},
   "source": [
    "### Problem 6\n",
    "#### Find difference between sum of the squares of first hundred natural numbers and the square of the sum"
   ]
  },
  {
   "cell_type": "code",
   "execution_count": 30,
   "metadata": {},
   "outputs": [
    {
     "name": "stdout",
     "output_type": "stream",
     "text": [
      "2640\n"
     ]
    }
   ],
   "source": [
    "sum_squares = 0\n",
    "sum = 0\n",
    "\n",
    "for i in range(11):\n",
    "    sum_squares += i**2\n",
    "    sum += i\n",
    "\n",
    "print(sum**2 - sum_squares)\n"
   ]
  },
  {
   "cell_type": "markdown",
   "metadata": {},
   "source": [
    "### Problem 7\n",
    "#### What is the 10001st prime number"
   ]
  },
  {
   "cell_type": "code",
   "execution_count": 8,
   "metadata": {},
   "outputs": [
    {
     "name": "stdout",
     "output_type": "stream",
     "text": [
      "104743\n"
     ]
    }
   ],
   "source": [
    "def check_prime(x):\n",
    "    i = 2\n",
    "    while i <= np.sqrt(x)//1:\n",
    "        if x%i == 0:\n",
    "            return(1)\n",
    "        i += 1\n",
    "    return(0)\n",
    "\n",
    "count = 0\n",
    "prime = 2\n",
    "while count < 10001:\n",
    "    if check_prime(prime) == 0:\n",
    "        count += 1\n",
    "        prime += 1\n",
    "    else:\n",
    "        prime += 1\n",
    "print(prime-1)"
   ]
  },
  {
   "cell_type": "markdown",
   "metadata": {},
   "source": [
    "### Problem 8\n",
    "#### Find 13 adjacent digits in 1000 digit number that have the greatest product - Get product"
   ]
  },
  {
   "cell_type": "code",
   "execution_count": 9,
   "metadata": {},
   "outputs": [
    {
     "name": "stdout",
     "output_type": "stream",
     "text": [
      "23514624000\n"
     ]
    }
   ],
   "source": [
    "with open(\"Project_Euler_Problem8.txt\", \"r\") as file:\n",
    "    number_str = file.read()\n",
    "digits = [int(digit) for digit in number_str]\n",
    "largest = 0\n",
    "for i in range(1000-13):\n",
    "    product = 1\n",
    "    j = 0\n",
    "    while j < 13:\n",
    "        product *= digits[i]\n",
    "        i += 1\n",
    "        j += 1\n",
    "    if product > largest:\n",
    "        largest = product\n",
    "\n",
    "print(largest)"
   ]
  },
  {
   "cell_type": "markdown",
   "metadata": {},
   "source": [
    "### Problem 9\n",
    "#### There is pythagorean triplet such that a + b + c = 1000, find a*b*c"
   ]
  },
  {
   "cell_type": "code",
   "execution_count": 56,
   "metadata": {},
   "outputs": [
    {
     "name": "stdout",
     "output_type": "stream",
     "text": [
      "31875000.0\n"
     ]
    }
   ],
   "source": [
    "#First limit is a,b,c can't be more than 1000\n",
    "#Find list of a and b such that their sum is less than 1000 and \n",
    "\n",
    "a = 1\n",
    "b = 1\n",
    "x = False\n",
    "\n",
    "while x == False and b < 999:\n",
    "    c = np.sqrt((a**2 + b**2))\n",
    "    d = c%1\n",
    "    if d == 0:\n",
    "        if a + b + c == 1000:\n",
    "            print(a*b*c)\n",
    "            x = True\n",
    "    if a < 999:\n",
    "        a += 1\n",
    "    else:\n",
    "        b += 1\n",
    "        a = b\n",
    "\n",
    "    "
   ]
  },
  {
   "cell_type": "markdown",
   "metadata": {},
   "source": [
    "### Problem 10\n",
    "#### Find sum of all primes less than 2 million"
   ]
  },
  {
   "cell_type": "code",
   "execution_count": 59,
   "metadata": {},
   "outputs": [
    {
     "name": "stdout",
     "output_type": "stream",
     "text": [
      "1709600813\n"
     ]
    }
   ],
   "source": [
    "\n",
    "def check_prime(x):\n",
    "    i = 2\n",
    "    while i <= np.sqrt(x)//1:\n",
    "        if x%i == 0:\n",
    "            return(1)\n",
    "        i += 1\n",
    "    return(0)\n",
    "\n",
    "\n",
    "count = 0\n",
    "prime = 3\n",
    "sum = 2\n",
    "while prime < 2*10**6:\n",
    "    if check_prime(prime) == 0:\n",
    "        sum += prime\n",
    "        prime += 2\n",
    "    else:\n",
    "        prime += 2\n",
    "print(sum)\n",
    "\n",
    "\n",
    "#142913828922\n",
    "# Takes a minute and a half to run answer is above, code commented out now"
   ]
  },
  {
   "cell_type": "code",
   "execution_count": null,
   "metadata": {},
   "outputs": [],
   "source": []
  }
 ],
 "metadata": {
  "kernelspec": {
   "display_name": "Python 3",
   "language": "python",
   "name": "python3"
  },
  "language_info": {
   "codemirror_mode": {
    "name": "ipython",
    "version": 3
   },
   "file_extension": ".py",
   "mimetype": "text/x-python",
   "name": "python",
   "nbconvert_exporter": "python",
   "pygments_lexer": "ipython3",
   "version": "3.9.6"
  }
 },
 "nbformat": 4,
 "nbformat_minor": 2
}
